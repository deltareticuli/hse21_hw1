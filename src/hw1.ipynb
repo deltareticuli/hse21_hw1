{
 "cells": [
  {
   "cell_type": "code",
   "execution_count": 62,
   "metadata": {},
   "outputs": [],
   "source": [
    "import re\n",
    "\n",
    "def contig_info(path):\n",
    "    with open(path, \"r+\") as f:\n",
    "        contigs = []\n",
    "        length, s, N50 = 0, 0, 0\n",
    "        \n",
    "        for line in f.readlines():\n",
    "            if (line.startswith('>')):\n",
    "                i = line.find('len')\n",
    "                contig = int(line[i + 3 : line.find('_', i + 3)])\n",
    "                contigs.append(contig)\n",
    "            \n",
    "        contigs.sort(reverse = True)\n",
    "    \n",
    "        for i in contigs:\n",
    "            s += i\n",
    "            if s >= length // 2:\n",
    "                N50 = i\n",
    "                break\n",
    "\n",
    "        print(\"Общее кол-во контигов:\", len(contigs))\n",
    "        print(\"Общая длина контигов:\", sum(contigs))\n",
    "        print(\"Длина самого длинного контига:\", contigs[0])\n",
    "        print(\"N50:\", N50)\n",
    "        \n",
    "def scaffold_info(path):\n",
    "    with open(path, \"r+\") as f:\n",
    "        gaps = re.findall(r'(N+)', f.read())\n",
    "        print('Количество гэпов:', len(gaps))\n",
    "        print('Общая длина:', sum([len(e) for e in gaps]))"
   ]
  },
  {
   "cell_type": "markdown",
   "metadata": {},
   "source": [
    "# Анализ полученных контигов"
   ]
  },
  {
   "cell_type": "code",
   "execution_count": 63,
   "metadata": {},
   "outputs": [
    {
     "name": "stdout",
     "output_type": "stream",
     "text": [
      "Общее кол-во контигов: 602\n",
      "Общая длина контигов: 3924742\n",
      "Длина самого длинного контига: 179304\n",
      "N50: 179304\n"
     ]
    }
   ],
   "source": [
    "contig_info(\"../data/contigs.fasta\")"
   ]
  },
  {
   "cell_type": "markdown",
   "metadata": {},
   "source": [
    "# Анализ полученных скаффолдов"
   ]
  },
  {
   "cell_type": "code",
   "execution_count": 64,
   "metadata": {},
   "outputs": [
    {
     "name": "stdout",
     "output_type": "stream",
     "text": [
      "Общее кол-во контигов: 70\n",
      "Общая длина контигов: 3876850\n",
      "Длина самого длинного контига: 3834714\n",
      "N50: 3834714\n"
     ]
    }
   ],
   "source": [
    "contig_info(\"../data/scaffolds_with_gaps.fasta\")"
   ]
  },
  {
   "cell_type": "markdown",
   "metadata": {},
   "source": [
    "# Количество гэпов и общая длина для самого длинного скаффолда"
   ]
  },
  {
   "cell_type": "code",
   "execution_count": 66,
   "metadata": {},
   "outputs": [
    {
     "name": "stdout",
     "output_type": "stream",
     "text": [
      "Количество гэпов: 43\n",
      "Общая длина: 2662\n"
     ]
    }
   ],
   "source": [
    "scaffold_info(\"../data/longest.fasta\")"
   ]
  },
  {
   "cell_type": "markdown",
   "metadata": {},
   "source": [
    "# Количество гэпов и общая длина для самого длинного скаффолда после уменьшения количества гэпов"
   ]
  },
  {
   "cell_type": "code",
   "execution_count": 67,
   "metadata": {},
   "outputs": [
    {
     "name": "stdout",
     "output_type": "stream",
     "text": [
      "Количество гэпов: 140\n",
      "Общая длина: 6793\n"
     ]
    }
   ],
   "source": [
    "scaffold_info(\"../data/longest_with_gaps.fasta\")"
   ]
  },
  {
   "cell_type": "code",
   "execution_count": null,
   "metadata": {},
   "outputs": [],
   "source": []
  }
 ],
 "metadata": {
  "kernelspec": {
   "display_name": "Python 3",
   "language": "python",
   "name": "python3"
  },
  "language_info": {
   "codemirror_mode": {
    "name": "ipython",
    "version": 3
   },
   "file_extension": ".py",
   "mimetype": "text/x-python",
   "name": "python",
   "nbconvert_exporter": "python",
   "pygments_lexer": "ipython3",
   "version": "3.8.3"
  }
 },
 "nbformat": 4,
 "nbformat_minor": 4
}
